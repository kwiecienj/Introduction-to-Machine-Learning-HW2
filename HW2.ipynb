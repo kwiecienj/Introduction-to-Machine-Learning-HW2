{
 "cells": [
  {
   "cell_type": "markdown",
   "id": "da82cc21",
   "metadata": {},
   "source": [
    "# Wczytanie danych i odpowiednich pakietów"
   ]
  },
  {
   "cell_type": "code",
   "execution_count": 1,
   "id": "5765ceb3",
   "metadata": {},
   "outputs": [],
   "source": [
    "import pandas as pd\n",
    "import numpy as np\n",
    "import matplotlib.pyplot as plt\n",
    "from sklearn.linear_model import LinearRegression, LogisticRegression\n",
    "from sklearn.model_selection import train_test_split\n",
    "from sklearn.metrics import precision_score, roc_auc_score, recall_score, roc_curve\n",
    "from sklearn.svm import SVC\n",
    "import sklearn.model_selection as skm\n",
    "from sklearn.metrics import confusion_matrix, accuracy_score\n",
    "from sklearn . datasets import fetch_openml\n",
    "from sklearn.model_selection import cross_val_score"
   ]
  },
  {
   "cell_type": "code",
   "execution_count": 2,
   "id": "e6177890",
   "metadata": {},
   "outputs": [],
   "source": [
    "df = fetch_openml ( data_id = 31)\n",
    "y = df . target\n",
    "X = df . data"
   ]
  },
  {
   "cell_type": "code",
   "execution_count": 3,
   "id": "3e408600",
   "metadata": {},
   "outputs": [],
   "source": [
    "X = pd.get_dummies(X)"
   ]
  },
  {
   "cell_type": "code",
   "execution_count": 4,
   "id": "bd61cc54",
   "metadata": {},
   "outputs": [],
   "source": [
    "y = pd.get_dummies(y)\n",
    "y = y.good"
   ]
  },
  {
   "cell_type": "code",
   "execution_count": 5,
   "id": "217214bc",
   "metadata": {},
   "outputs": [],
   "source": [
    "X_train, X_test, y_train, y_test = train_test_split(X, y, test_size = 0.3, random_state = 320565)"
   ]
  },
  {
   "cell_type": "markdown",
   "id": "f687646f",
   "metadata": {},
   "source": [
    "## Część 1 "
   ]
  },
  {
   "cell_type": "markdown",
   "id": "19ec61a2",
   "metadata": {},
   "source": [
    "### Regresja logistyczna"
   ]
  },
  {
   "cell_type": "code",
   "execution_count": 6,
   "id": "5f3baf18",
   "metadata": {},
   "outputs": [
    {
     "data": {
      "text/plain": [
       "LogisticRegression(max_iter=1000, penalty='none')"
      ]
     },
     "execution_count": 6,
     "metadata": {},
     "output_type": "execute_result"
    }
   ],
   "source": [
    "lm1 = LogisticRegression(penalty = 'none', max_iter = 1000)\n",
    "lm1.fit(X_train, y_train)"
   ]
  },
  {
   "cell_type": "code",
   "execution_count": 7,
   "id": "87d801a7",
   "metadata": {},
   "outputs": [],
   "source": [
    "y_pred_lm1_train = lm1.predict(X_train)\n",
    "pred_lm1_train = lm1.predict_proba(X_train)\n",
    "\n",
    "y_pred_lm1 = lm1.predict(X_test)\n",
    "pred_lm1 = lm1.predict_proba(X_test)"
   ]
  },
  {
   "cell_type": "markdown",
   "id": "c5a0b216",
   "metadata": {},
   "source": [
    "#### Dla zbioru testowego"
   ]
  },
  {
   "cell_type": "code",
   "execution_count": 8,
   "id": "2c808cca",
   "metadata": {},
   "outputs": [
    {
     "name": "stdout",
     "output_type": "stream",
     "text": [
      "precision score lm1: 0.775\n",
      "recall score lm1: 0.882\n",
      "accuracy lm1: 0.747\n",
      "auc lm1: 0.786\n"
     ]
    }
   ],
   "source": [
    "print(\"precision score lm1:\", np.round(precision_score(y_test, y_pred_lm1), 3))\n",
    "print(\"recall score lm1:\", np.round(recall_score(y_test, y_pred_lm1), 3))\n",
    "print(\"accuracy lm1:\", np.round(accuracy_score(y_test, y_pred_lm1), 3))\n",
    "print(\"auc lm1:\", np.round(roc_auc_score(y_test, pred_lm1[:,1]), 3))"
   ]
  },
  {
   "cell_type": "markdown",
   "id": "58bdbe22",
   "metadata": {},
   "source": [
    "#### Dla zbioru treningowego"
   ]
  },
  {
   "cell_type": "code",
   "execution_count": 9,
   "id": "c071a61d",
   "metadata": {
    "scrolled": true
   },
   "outputs": [
    {
     "name": "stdout",
     "output_type": "stream",
     "text": [
      "precision score lm1: 0.823\n",
      "recall score lm1: 0.897\n",
      "accuracy lm1: 0.79\n",
      "auc lm1: 0.834\n"
     ]
    }
   ],
   "source": [
    "print(\"precision score lm1:\", np.round(precision_score(y_train, y_pred_lm1_train), 3))\n",
    "print(\"recall score lm1:\", np.round(recall_score(y_train, y_pred_lm1_train), 3))\n",
    "print(\"accuracy lm1:\", np.round(accuracy_score(y_train, y_pred_lm1_train), 3))\n",
    "print(\"auc lm1:\", np.round(roc_auc_score(y_train, pred_lm1_train[:,1]), 3))"
   ]
  },
  {
   "cell_type": "code",
   "execution_count": 10,
   "id": "a40a93fe",
   "metadata": {},
   "outputs": [
    {
     "data": {
      "text/plain": [
       "<matplotlib.legend.Legend at 0x15defd52730>"
      ]
     },
     "execution_count": 10,
     "metadata": {},
     "output_type": "execute_result"
    },
    {
     "data": {
      "image/png": "[encoded data removed]",
      "text/plain": [
       "<Figure size 432x288 with 1 Axes>"
      ]
     },
     "metadata": {
      "needs_background": "light"
     },
     "output_type": "display_data"
    }
   ],
   "source": [
    "fpr, tpr, thresholds = roc_curve(y_train, pred_lm1_train[:,1])\n",
    "plt.plot(fpr,tpr,label=\"LM1_train, AUC=\"+str(round(roc_auc_score(y_train, pred_lm1_train[:,1]), 3)))\n",
    "\n",
    "fpr, tpr, thresholds = roc_curve(y_test, pred_lm1[:,1])\n",
    "plt.plot(fpr,tpr,label=\"LM1_test, AUC=\"+str(round(roc_auc_score(y_test, pred_lm1[:,1]), 3)))\n",
    "plt.legend()"
   ]
  },
  {
   "cell_type": "markdown",
   "id": "880e518d",
   "metadata": {},
   "source": [
    "### Model regresji logistycznej z regularyzacją L1"
   ]
  },
  {
   "cell_type": "code",
   "execution_count": 11,
   "id": "054d183b",
   "metadata": {
    "scrolled": false
   },
   "outputs": [],
   "source": [
    "scores_all_2 = []\n",
    "for i in range(100, 10000, 100):    \n",
    "    lm = LogisticRegression(penalty = 'l1', max_iter = 1000, solver = 'liblinear', C = i / 1000, random_state = 320565)\n",
    "    scores = cross_val_score(lm, X_train, y_train, cv = 5, scoring = 'roc_auc')\n",
    "    scores = np.mean(scores)\n",
    "    scores_all_2.append(scores)\n",
    "    scores = 0 "
   ]
  },
  {
   "cell_type": "code",
   "execution_count": 12,
   "id": "53cfdeeb",
   "metadata": {},
   "outputs": [
    {
     "data": {
      "text/plain": [
       "0.7700533013057405"
      ]
     },
     "execution_count": 12,
     "metadata": {},
     "output_type": "execute_result"
    }
   ],
   "source": [
    "np.max(scores_all_2)"
   ]
  },
  {
   "cell_type": "code",
   "execution_count": 13,
   "id": "2c5a05d1",
   "metadata": {},
   "outputs": [
    {
     "data": {
      "text/plain": [
       "3"
      ]
     },
     "execution_count": 13,
     "metadata": {},
     "output_type": "execute_result"
    }
   ],
   "source": [
    "np.argmax(scores_all_2)"
   ]
  },
  {
   "cell_type": "code",
   "execution_count": 45,
   "id": "5d1db1c8",
   "metadata": {},
   "outputs": [
    {
     "data": {
      "text/plain": [
       "LogisticRegression(C=0.4, max_iter=1000, penalty='l1', solver='liblinear')"
      ]
     },
     "execution_count": 45,
     "metadata": {},
     "output_type": "execute_result"
    }
   ],
   "source": [
    "lm2 = LogisticRegression(penalty = 'l1', max_iter = 1000, solver = 'liblinear', C = 0.4)\n",
    "lm2.fit(X_train, y_train)"
   ]
  },
  {
   "cell_type": "code",
   "execution_count": 46,
   "id": "975741d1",
   "metadata": {},
   "outputs": [],
   "source": [
    "y_pred_lm2_train = lm2.predict(X_train)\n",
    "pred_lm2_train = lm2.predict_proba(X_train)\n",
    "y_pred_lm2 = lm2.predict(X_test)\n",
    "pred_lm2 = lm2.predict_proba(X_test)"
   ]
  },
  {
   "cell_type": "markdown",
   "id": "d4bad158",
   "metadata": {},
   "source": [
    "#### Dla zbioru testowego"
   ]
  },
  {
   "cell_type": "code",
   "execution_count": 47,
   "id": "895c7119",
   "metadata": {},
   "outputs": [
    {
     "name": "stdout",
     "output_type": "stream",
     "text": [
      "precision score lm2: 0.782\n",
      "recall score lm2: 0.882\n",
      "accuracy lm2: 0.753\n",
      "auc lm2: 0.808\n"
     ]
    }
   ],
   "source": [
    "print(\"precision score lm2:\", np.round(precision_score(y_test, y_pred_lm2), 3))\n",
    "print(\"recall score lm2:\", np.round(recall_score(y_test, y_pred_lm2), 3))\n",
    "print(\"accuracy lm2:\", np.round(accuracy_score(y_test, y_pred_lm2), 3))\n",
    "print(\"auc lm2:\", np.round(roc_auc_score(y_test, pred_lm2[:,1]), 3))"
   ]
  },
  {
   "cell_type": "markdown",
   "id": "8b9e9b55",
   "metadata": {},
   "source": [
    "#### Dla zbioru treningowego"
   ]
  },
  {
   "cell_type": "code",
   "execution_count": 17,
   "id": "6cd4d2cb",
   "metadata": {
    "scrolled": true
   },
   "outputs": [
    {
     "name": "stdout",
     "output_type": "stream",
     "text": [
      "precision score lm2: 0.809\n",
      "recall score lm2: 0.918\n",
      "accuracy lm2: 0.787\n",
      "auc lm2: 0.825\n"
     ]
    }
   ],
   "source": [
    "print(\"precision score lm2:\", np.round(precision_score(y_train, y_pred_lm2_train), 3))\n",
    "print(\"recall score lm2:\", np.round(recall_score(y_train, y_pred_lm2_train), 3))\n",
    "print(\"accuracy lm2:\", np.round(accuracy_score(y_train, y_pred_lm2_train), 3))\n",
    "print(\"auc lm2:\", np.round(roc_auc_score(y_train, pred_lm2_train[:,1]), 3))"
   ]
  },
  {
   "cell_type": "code",
   "execution_count": 18,
   "id": "23f71f19",
   "metadata": {},
   "outputs": [
    {
     "data": {
      "image/png": "[encoded data removed]",
      "text/plain": [
       "<Figure size 432x288 with 1 Axes>"
      ]
     },
     "metadata": {
      "needs_background": "light"
     },
     "output_type": "display_data"
    }
   ],
   "source": [
    "fpr, tpr, thresholds = roc_curve(y_train, pred_lm2_train[:,1])\n",
    "plt.plot(fpr,tpr,label=\"LM2_train, AUC=\"+str(round(roc_auc_score(y_train, pred_lm2_train[:,1]), 3)))\n",
    "\n",
    "fpr, tpr, thresholds = roc_curve(y_test, pred_lm2[:,1])\n",
    "plt.plot(fpr,tpr,label=\"LM2_test, AUC=\"+str(round(roc_auc_score(y_test, pred_lm2[:,1]), 3)))\n",
    "plt.legend()\n",
    "plt.savefig(\"pdu2_2.pdf\", format = 'pdf')"
   ]
  },
  {
   "cell_type": "markdown",
   "id": "573e4576",
   "metadata": {},
   "source": [
    "### Model regresji logistycznej z regularyzacją L2"
   ]
  },
  {
   "cell_type": "code",
   "execution_count": 48,
   "id": "4449cf8a",
   "metadata": {},
   "outputs": [],
   "source": [
    "scores_all_3 = []\n",
    "for i in range(100, 10000, 100):    \n",
    "    lm = LogisticRegression(penalty = 'l2', max_iter = 3000, C = i / 1000, random_state = 320565)\n",
    "    scores = cross_val_score(lm, X_train, y_train, cv = 5, scoring = 'roc_auc')\n",
    "    scores = np.mean(scores)\n",
    "    scores_all_3.append(scores)\n",
    "    scores = 0 "
   ]
  },
  {
   "cell_type": "code",
   "execution_count": 20,
   "id": "46527ab4",
   "metadata": {},
   "outputs": [
    {
     "data": {
      "text/plain": [
       "0.7729573663463907"
      ]
     },
     "execution_count": 20,
     "metadata": {},
     "output_type": "execute_result"
    }
   ],
   "source": [
    "np.max(scores_all_3)"
   ]
  },
  {
   "cell_type": "code",
   "execution_count": 21,
   "id": "ba39a99f",
   "metadata": {},
   "outputs": [
    {
     "data": {
      "text/plain": [
       "1"
      ]
     },
     "execution_count": 21,
     "metadata": {},
     "output_type": "execute_result"
    }
   ],
   "source": [
    "np.argmax(scores_all_3)"
   ]
  },
  {
   "cell_type": "code",
   "execution_count": 49,
   "id": "a629af95",
   "metadata": {},
   "outputs": [
    {
     "data": {
      "text/plain": [
       "LogisticRegression(C=0.2, max_iter=3000)"
      ]
     },
     "execution_count": 49,
     "metadata": {},
     "output_type": "execute_result"
    }
   ],
   "source": [
    "lm3 = LogisticRegression(penalty = 'l2', max_iter = 3000, C = 0.2)\n",
    "lm3.fit(X_train, y_train)"
   ]
  },
  {
   "cell_type": "code",
   "execution_count": 50,
   "id": "f5ea54cf",
   "metadata": {},
   "outputs": [],
   "source": [
    "y_pred_lm3_train = lm3.predict(X_train)\n",
    "pred_lm3_train = lm3.predict_proba(X_train)\n",
    "y_pred_lm3 = lm3.predict(X_test)\n",
    "pred_lm3 = lm3.predict_proba(X_test)"
   ]
  },
  {
   "cell_type": "markdown",
   "id": "3875fe72",
   "metadata": {},
   "source": [
    "#### Dla zbioru testowego"
   ]
  },
  {
   "cell_type": "code",
   "execution_count": 51,
   "id": "06f11000",
   "metadata": {},
   "outputs": [
    {
     "name": "stdout",
     "output_type": "stream",
     "text": [
      "precision score lm3: 0.768\n",
      "recall score lm3: 0.882\n",
      "accuracy lm3: 0.74\n",
      "auc lm3: 0.798\n"
     ]
    }
   ],
   "source": [
    "print(\"precision score lm3:\", np.round(precision_score(y_test, y_pred_lm3), 3))\n",
    "print(\"recall score lm3:\", np.round(recall_score(y_test, y_pred_lm3), 3))\n",
    "print(\"accuracy lm3:\", np.round(accuracy_score(y_test, y_pred_lm3), 3))\n",
    "print(\"auc lm3:\", np.round(roc_auc_score(y_test, pred_lm3[:,1]), 3))"
   ]
  },
  {
   "cell_type": "markdown",
   "id": "8fe83775",
   "metadata": {},
   "source": [
    "#### Dla zbioru treningowego"
   ]
  },
  {
   "cell_type": "code",
   "execution_count": 25,
   "id": "96e0b0b7",
   "metadata": {},
   "outputs": [
    {
     "name": "stdout",
     "output_type": "stream",
     "text": [
      "precision score lm3: 0.81\n",
      "recall score lm3: 0.915\n",
      "accuracy lm3: 0.787\n",
      "auc lm3: 0.829\n"
     ]
    }
   ],
   "source": [
    "print(\"precision score lm3:\", np.round(precision_score(y_train, y_pred_lm3_train), 3))\n",
    "print(\"recall score lm3:\", np.round(recall_score(y_train, y_pred_lm3_train), 3))\n",
    "print(\"accuracy lm3:\", np.round(accuracy_score(y_train, y_pred_lm3_train), 3))\n",
    "print(\"auc lm3:\", np.round(roc_auc_score(y_train, pred_lm3_train[:,1]), 3))"
   ]
  },
  {
   "cell_type": "code",
   "execution_count": 26,
   "id": "52640d78",
   "metadata": {},
   "outputs": [
    {
     "data": {
      "image/png": "[encoded data removed]",
      "text/plain": [
       "<Figure size 432x288 with 1 Axes>"
      ]
     },
     "metadata": {
      "needs_background": "light"
     },
     "output_type": "display_data"
    }
   ],
   "source": [
    "fpr, tpr, thresholds = roc_curve(y_train, pred_lm3_train[:,1])\n",
    "plt.plot(fpr,tpr,label=\"LM3_train, AUC=\"+str(round(roc_auc_score(y_train, pred_lm3_train[:,1]), 3)))\n",
    "\n",
    "fpr, tpr, thresholds = roc_curve(y_test, pred_lm3[:,1])\n",
    "plt.plot(fpr,tpr,label=\"LM3_test, AUC=\"+str(round(roc_auc_score(y_test, pred_lm3[:,1]), 3)))\n",
    "plt.legend()\n",
    "plt.savefig(\"pdu2_3.pdf\", format = 'pdf')"
   ]
  },
  {
   "cell_type": "markdown",
   "id": "0873815b",
   "metadata": {},
   "source": [
    "## Część 2"
   ]
  },
  {
   "cell_type": "markdown",
   "id": "d2df768d",
   "metadata": {},
   "source": [
    "### Znalezienie niepotrzebnych kolumn"
   ]
  },
  {
   "cell_type": "code",
   "execution_count": 27,
   "id": "435bef7f",
   "metadata": {},
   "outputs": [],
   "source": [
    "list = np.where(lm2.coef_ == 0)"
   ]
  },
  {
   "cell_type": "code",
   "execution_count": 28,
   "id": "a69c14ab",
   "metadata": {},
   "outputs": [],
   "source": [
    "list = list[1]"
   ]
  },
  {
   "cell_type": "code",
   "execution_count": 29,
   "id": "b790a59e",
   "metadata": {},
   "outputs": [
    {
     "data": {
      "text/plain": [
       "array([ 3,  6,  8, 14, 20, 21, 23, 24, 25, 26, 28, 29, 32, 33, 34, 36, 38,\n",
       "       41, 42, 43, 47, 48, 49, 50, 52, 54, 55, 56, 58, 59, 61],\n",
       "      dtype=int64)"
      ]
     },
     "execution_count": 29,
     "metadata": {},
     "output_type": "execute_result"
    }
   ],
   "source": [
    "list"
   ]
  },
  {
   "cell_type": "code",
   "execution_count": 40,
   "id": "b1764e70",
   "metadata": {},
   "outputs": [],
   "source": [
    "X_del = X.columns[list]"
   ]
  },
  {
   "cell_type": "code",
   "execution_count": 44,
   "id": "22133174",
   "metadata": {},
   "outputs": [
    {
     "data": {
      "text/plain": [
       "Index(['residence_since', 'num_dependents', 'checking_status_0<=X<200',\n",
       "       'credit_history_delayed previously', 'purpose_domestic appliance',\n",
       "       'purpose_repairs', 'purpose_vacation', 'purpose_retraining',\n",
       "       'purpose_business', 'purpose_other', 'savings_status_100<=X<500',\n",
       "       'savings_status_500<=X<1000', 'employment_unemployed', 'employment_<1',\n",
       "       'employment_1<=X<4', 'employment_>=7',\n",
       "       'personal_status_female div/dep/mar', 'personal_status_female single',\n",
       "       'other_parties_none', 'other_parties_co applicant',\n",
       "       'property_magnitude_car', 'property_magnitude_no known property',\n",
       "       'other_payment_plans_bank', 'other_payment_plans_stores',\n",
       "       'housing_rent', 'housing_for free', 'job_unemp/unskilled non res',\n",
       "       'job_unskilled resident', 'job_high qualif/self emp/mgmt',\n",
       "       'own_telephone_none', 'foreign_worker_yes'],\n",
       "      dtype='object')"
      ]
     },
     "execution_count": 44,
     "metadata": {},
     "output_type": "execute_result"
    }
   ],
   "source": [
    "X_del # zmienne nieistotne"
   ]
  },
  {
   "cell_type": "code",
   "execution_count": 30,
   "id": "d9b3be03",
   "metadata": {},
   "outputs": [],
   "source": [
    "X_2 = X.drop(X.columns[list], axis=1)"
   ]
  },
  {
   "cell_type": "code",
   "execution_count": 43,
   "id": "025f7483",
   "metadata": {},
   "outputs": [
    {
     "data": {
      "text/html": [
       "<div>\n",
       "<style scoped>\n",
       "    .dataframe tbody tr th:only-of-type {\n",
       "        vertical-align: middle;\n",
       "    }\n",
       "\n",
       "    .dataframe tbody tr th {\n",
       "        vertical-align: top;\n",
       "    }\n",
       "\n",
       "    .dataframe thead th {\n",
       "        text-align: right;\n",
       "    }\n",
       "</style>\n",
       "<table border=\"1\" class=\"dataframe\">\n",
       "  <thead>\n",
       "    <tr style=\"text-align: right;\">\n",
       "      <th></th>\n",
       "      <th>duration</th>\n",
       "      <th>credit_amount</th>\n",
       "      <th>installment_commitment</th>\n",
       "      <th>age</th>\n",
       "      <th>existing_credits</th>\n",
       "      <th>checking_status_&lt;0</th>\n",
       "      <th>checking_status_&gt;=200</th>\n",
       "      <th>checking_status_no checking</th>\n",
       "      <th>credit_history_no credits/all paid</th>\n",
       "      <th>credit_history_all paid</th>\n",
       "      <th>...</th>\n",
       "      <th>personal_status_male single</th>\n",
       "      <th>personal_status_male mar/wid</th>\n",
       "      <th>other_parties_guarantor</th>\n",
       "      <th>property_magnitude_real estate</th>\n",
       "      <th>property_magnitude_life insurance</th>\n",
       "      <th>other_payment_plans_none</th>\n",
       "      <th>housing_own</th>\n",
       "      <th>job_skilled</th>\n",
       "      <th>own_telephone_yes</th>\n",
       "      <th>foreign_worker_no</th>\n",
       "    </tr>\n",
       "  </thead>\n",
       "  <tbody>\n",
       "    <tr>\n",
       "      <th>0</th>\n",
       "      <td>6.0</td>\n",
       "      <td>1169.0</td>\n",
       "      <td>4.0</td>\n",
       "      <td>67.0</td>\n",
       "      <td>2.0</td>\n",
       "      <td>1</td>\n",
       "      <td>0</td>\n",
       "      <td>0</td>\n",
       "      <td>0</td>\n",
       "      <td>0</td>\n",
       "      <td>...</td>\n",
       "      <td>1</td>\n",
       "      <td>0</td>\n",
       "      <td>0</td>\n",
       "      <td>1</td>\n",
       "      <td>0</td>\n",
       "      <td>1</td>\n",
       "      <td>1</td>\n",
       "      <td>1</td>\n",
       "      <td>1</td>\n",
       "      <td>0</td>\n",
       "    </tr>\n",
       "    <tr>\n",
       "      <th>1</th>\n",
       "      <td>48.0</td>\n",
       "      <td>5951.0</td>\n",
       "      <td>2.0</td>\n",
       "      <td>22.0</td>\n",
       "      <td>1.0</td>\n",
       "      <td>0</td>\n",
       "      <td>0</td>\n",
       "      <td>0</td>\n",
       "      <td>0</td>\n",
       "      <td>0</td>\n",
       "      <td>...</td>\n",
       "      <td>0</td>\n",
       "      <td>0</td>\n",
       "      <td>0</td>\n",
       "      <td>1</td>\n",
       "      <td>0</td>\n",
       "      <td>1</td>\n",
       "      <td>1</td>\n",
       "      <td>1</td>\n",
       "      <td>0</td>\n",
       "      <td>0</td>\n",
       "    </tr>\n",
       "    <tr>\n",
       "      <th>2</th>\n",
       "      <td>12.0</td>\n",
       "      <td>2096.0</td>\n",
       "      <td>2.0</td>\n",
       "      <td>49.0</td>\n",
       "      <td>1.0</td>\n",
       "      <td>0</td>\n",
       "      <td>0</td>\n",
       "      <td>1</td>\n",
       "      <td>0</td>\n",
       "      <td>0</td>\n",
       "      <td>...</td>\n",
       "      <td>1</td>\n",
       "      <td>0</td>\n",
       "      <td>0</td>\n",
       "      <td>1</td>\n",
       "      <td>0</td>\n",
       "      <td>1</td>\n",
       "      <td>1</td>\n",
       "      <td>0</td>\n",
       "      <td>0</td>\n",
       "      <td>0</td>\n",
       "    </tr>\n",
       "    <tr>\n",
       "      <th>3</th>\n",
       "      <td>42.0</td>\n",
       "      <td>7882.0</td>\n",
       "      <td>2.0</td>\n",
       "      <td>45.0</td>\n",
       "      <td>1.0</td>\n",
       "      <td>1</td>\n",
       "      <td>0</td>\n",
       "      <td>0</td>\n",
       "      <td>0</td>\n",
       "      <td>0</td>\n",
       "      <td>...</td>\n",
       "      <td>1</td>\n",
       "      <td>0</td>\n",
       "      <td>1</td>\n",
       "      <td>0</td>\n",
       "      <td>1</td>\n",
       "      <td>1</td>\n",
       "      <td>0</td>\n",
       "      <td>1</td>\n",
       "      <td>0</td>\n",
       "      <td>0</td>\n",
       "    </tr>\n",
       "    <tr>\n",
       "      <th>4</th>\n",
       "      <td>24.0</td>\n",
       "      <td>4870.0</td>\n",
       "      <td>3.0</td>\n",
       "      <td>53.0</td>\n",
       "      <td>2.0</td>\n",
       "      <td>1</td>\n",
       "      <td>0</td>\n",
       "      <td>0</td>\n",
       "      <td>0</td>\n",
       "      <td>0</td>\n",
       "      <td>...</td>\n",
       "      <td>1</td>\n",
       "      <td>0</td>\n",
       "      <td>0</td>\n",
       "      <td>0</td>\n",
       "      <td>0</td>\n",
       "      <td>1</td>\n",
       "      <td>0</td>\n",
       "      <td>1</td>\n",
       "      <td>0</td>\n",
       "      <td>0</td>\n",
       "    </tr>\n",
       "    <tr>\n",
       "      <th>...</th>\n",
       "      <td>...</td>\n",
       "      <td>...</td>\n",
       "      <td>...</td>\n",
       "      <td>...</td>\n",
       "      <td>...</td>\n",
       "      <td>...</td>\n",
       "      <td>...</td>\n",
       "      <td>...</td>\n",
       "      <td>...</td>\n",
       "      <td>...</td>\n",
       "      <td>...</td>\n",
       "      <td>...</td>\n",
       "      <td>...</td>\n",
       "      <td>...</td>\n",
       "      <td>...</td>\n",
       "      <td>...</td>\n",
       "      <td>...</td>\n",
       "      <td>...</td>\n",
       "      <td>...</td>\n",
       "      <td>...</td>\n",
       "      <td>...</td>\n",
       "    </tr>\n",
       "    <tr>\n",
       "      <th>995</th>\n",
       "      <td>12.0</td>\n",
       "      <td>1736.0</td>\n",
       "      <td>3.0</td>\n",
       "      <td>31.0</td>\n",
       "      <td>1.0</td>\n",
       "      <td>0</td>\n",
       "      <td>0</td>\n",
       "      <td>1</td>\n",
       "      <td>0</td>\n",
       "      <td>0</td>\n",
       "      <td>...</td>\n",
       "      <td>0</td>\n",
       "      <td>0</td>\n",
       "      <td>0</td>\n",
       "      <td>1</td>\n",
       "      <td>0</td>\n",
       "      <td>1</td>\n",
       "      <td>1</td>\n",
       "      <td>0</td>\n",
       "      <td>0</td>\n",
       "      <td>0</td>\n",
       "    </tr>\n",
       "    <tr>\n",
       "      <th>996</th>\n",
       "      <td>30.0</td>\n",
       "      <td>3857.0</td>\n",
       "      <td>4.0</td>\n",
       "      <td>40.0</td>\n",
       "      <td>1.0</td>\n",
       "      <td>1</td>\n",
       "      <td>0</td>\n",
       "      <td>0</td>\n",
       "      <td>0</td>\n",
       "      <td>0</td>\n",
       "      <td>...</td>\n",
       "      <td>0</td>\n",
       "      <td>0</td>\n",
       "      <td>0</td>\n",
       "      <td>0</td>\n",
       "      <td>1</td>\n",
       "      <td>1</td>\n",
       "      <td>1</td>\n",
       "      <td>0</td>\n",
       "      <td>1</td>\n",
       "      <td>0</td>\n",
       "    </tr>\n",
       "    <tr>\n",
       "      <th>997</th>\n",
       "      <td>12.0</td>\n",
       "      <td>804.0</td>\n",
       "      <td>4.0</td>\n",
       "      <td>38.0</td>\n",
       "      <td>1.0</td>\n",
       "      <td>0</td>\n",
       "      <td>0</td>\n",
       "      <td>1</td>\n",
       "      <td>0</td>\n",
       "      <td>0</td>\n",
       "      <td>...</td>\n",
       "      <td>1</td>\n",
       "      <td>0</td>\n",
       "      <td>0</td>\n",
       "      <td>0</td>\n",
       "      <td>0</td>\n",
       "      <td>1</td>\n",
       "      <td>1</td>\n",
       "      <td>1</td>\n",
       "      <td>0</td>\n",
       "      <td>0</td>\n",
       "    </tr>\n",
       "    <tr>\n",
       "      <th>998</th>\n",
       "      <td>45.0</td>\n",
       "      <td>1845.0</td>\n",
       "      <td>4.0</td>\n",
       "      <td>23.0</td>\n",
       "      <td>1.0</td>\n",
       "      <td>1</td>\n",
       "      <td>0</td>\n",
       "      <td>0</td>\n",
       "      <td>0</td>\n",
       "      <td>0</td>\n",
       "      <td>...</td>\n",
       "      <td>1</td>\n",
       "      <td>0</td>\n",
       "      <td>0</td>\n",
       "      <td>0</td>\n",
       "      <td>0</td>\n",
       "      <td>1</td>\n",
       "      <td>0</td>\n",
       "      <td>1</td>\n",
       "      <td>1</td>\n",
       "      <td>0</td>\n",
       "    </tr>\n",
       "    <tr>\n",
       "      <th>999</th>\n",
       "      <td>45.0</td>\n",
       "      <td>4576.0</td>\n",
       "      <td>3.0</td>\n",
       "      <td>27.0</td>\n",
       "      <td>1.0</td>\n",
       "      <td>0</td>\n",
       "      <td>0</td>\n",
       "      <td>0</td>\n",
       "      <td>0</td>\n",
       "      <td>0</td>\n",
       "      <td>...</td>\n",
       "      <td>1</td>\n",
       "      <td>0</td>\n",
       "      <td>0</td>\n",
       "      <td>0</td>\n",
       "      <td>0</td>\n",
       "      <td>1</td>\n",
       "      <td>1</td>\n",
       "      <td>1</td>\n",
       "      <td>0</td>\n",
       "      <td>0</td>\n",
       "    </tr>\n",
       "  </tbody>\n",
       "</table>\n",
       "<p>1000 rows × 32 columns</p>\n",
       "</div>"
      ],
      "text/plain": [
       "     duration  credit_amount  installment_commitment   age  existing_credits  \\\n",
       "0         6.0         1169.0                     4.0  67.0               2.0   \n",
       "1        48.0         5951.0                     2.0  22.0               1.0   \n",
       "2        12.0         2096.0                     2.0  49.0               1.0   \n",
       "3        42.0         7882.0                     2.0  45.0               1.0   \n",
       "4        24.0         4870.0                     3.0  53.0               2.0   \n",
       "..        ...            ...                     ...   ...               ...   \n",
       "995      12.0         1736.0                     3.0  31.0               1.0   \n",
       "996      30.0         3857.0                     4.0  40.0               1.0   \n",
       "997      12.0          804.0                     4.0  38.0               1.0   \n",
       "998      45.0         1845.0                     4.0  23.0               1.0   \n",
       "999      45.0         4576.0                     3.0  27.0               1.0   \n",
       "\n",
       "     checking_status_<0  checking_status_>=200  checking_status_no checking  \\\n",
       "0                     1                      0                            0   \n",
       "1                     0                      0                            0   \n",
       "2                     0                      0                            1   \n",
       "3                     1                      0                            0   \n",
       "4                     1                      0                            0   \n",
       "..                  ...                    ...                          ...   \n",
       "995                   0                      0                            1   \n",
       "996                   1                      0                            0   \n",
       "997                   0                      0                            1   \n",
       "998                   1                      0                            0   \n",
       "999                   0                      0                            0   \n",
       "\n",
       "     credit_history_no credits/all paid  credit_history_all paid  ...  \\\n",
       "0                                     0                        0  ...   \n",
       "1                                     0                        0  ...   \n",
       "2                                     0                        0  ...   \n",
       "3                                     0                        0  ...   \n",
       "4                                     0                        0  ...   \n",
       "..                                  ...                      ...  ...   \n",
       "995                                   0                        0  ...   \n",
       "996                                   0                        0  ...   \n",
       "997                                   0                        0  ...   \n",
       "998                                   0                        0  ...   \n",
       "999                                   0                        0  ...   \n",
       "\n",
       "     personal_status_male single  personal_status_male mar/wid  \\\n",
       "0                              1                             0   \n",
       "1                              0                             0   \n",
       "2                              1                             0   \n",
       "3                              1                             0   \n",
       "4                              1                             0   \n",
       "..                           ...                           ...   \n",
       "995                            0                             0   \n",
       "996                            0                             0   \n",
       "997                            1                             0   \n",
       "998                            1                             0   \n",
       "999                            1                             0   \n",
       "\n",
       "     other_parties_guarantor  property_magnitude_real estate  \\\n",
       "0                          0                               1   \n",
       "1                          0                               1   \n",
       "2                          0                               1   \n",
       "3                          1                               0   \n",
       "4                          0                               0   \n",
       "..                       ...                             ...   \n",
       "995                        0                               1   \n",
       "996                        0                               0   \n",
       "997                        0                               0   \n",
       "998                        0                               0   \n",
       "999                        0                               0   \n",
       "\n",
       "     property_magnitude_life insurance  other_payment_plans_none  housing_own  \\\n",
       "0                                    0                         1            1   \n",
       "1                                    0                         1            1   \n",
       "2                                    0                         1            1   \n",
       "3                                    1                         1            0   \n",
       "4                                    0                         1            0   \n",
       "..                                 ...                       ...          ...   \n",
       "995                                  0                         1            1   \n",
       "996                                  1                         1            1   \n",
       "997                                  0                         1            1   \n",
       "998                                  0                         1            0   \n",
       "999                                  0                         1            1   \n",
       "\n",
       "     job_skilled  own_telephone_yes  foreign_worker_no  \n",
       "0              1                  1                  0  \n",
       "1              1                  0                  0  \n",
       "2              0                  0                  0  \n",
       "3              1                  0                  0  \n",
       "4              1                  0                  0  \n",
       "..           ...                ...                ...  \n",
       "995            0                  0                  0  \n",
       "996            0                  1                  0  \n",
       "997            1                  0                  0  \n",
       "998            1                  1                  0  \n",
       "999            1                  0                  0  \n",
       "\n",
       "[1000 rows x 32 columns]"
      ]
     },
     "execution_count": 43,
     "metadata": {},
     "output_type": "execute_result"
    }
   ],
   "source": [
    "X_2 # ramka do dalszej pracy"
   ]
  },
  {
   "cell_type": "markdown",
   "id": "e57ef020",
   "metadata": {},
   "source": [
    "### Model SVM"
   ]
  },
  {
   "cell_type": "code",
   "execution_count": 32,
   "id": "d3d8f4bd",
   "metadata": {},
   "outputs": [],
   "source": [
    "X_train_2, X_test_2, y_train, y_test = train_test_split(X_2, y, test_size = 0.3, random_state = 320565)"
   ]
  },
  {
   "cell_type": "code",
   "execution_count": 33,
   "id": "34691eba",
   "metadata": {},
   "outputs": [],
   "source": [
    "svm_linear = SVC(kernel = 'linear',\n",
    "                       probability=True, random_state = 320565)"
   ]
  },
  {
   "cell_type": "code",
   "execution_count": 34,
   "id": "7a3718a2",
   "metadata": {},
   "outputs": [
    {
     "data": {
      "text/plain": [
       "SVC(kernel='linear', probability=True, random_state=320565)"
      ]
     },
     "execution_count": 34,
     "metadata": {},
     "output_type": "execute_result"
    }
   ],
   "source": [
    "svm_linear.fit(X_train_2, y_train)"
   ]
  },
  {
   "cell_type": "code",
   "execution_count": 35,
   "id": "68f8c69f",
   "metadata": {},
   "outputs": [],
   "source": [
    "y_pred_svm_linear_train = svm_linear.predict(X_train_2)\n",
    "pred_svm_linear_train = svm_linear.predict_proba(X_train_2)\n",
    "y_pred_svm_linear = svm_linear.predict(X_test_2)\n",
    "pred_svm_linear = svm_linear.predict_proba(X_test_2)"
   ]
  },
  {
   "cell_type": "markdown",
   "id": "08d9b192",
   "metadata": {},
   "source": [
    "#### Dla zbioru testowego"
   ]
  },
  {
   "cell_type": "code",
   "execution_count": 36,
   "id": "05284100",
   "metadata": {},
   "outputs": [
    {
     "name": "stdout",
     "output_type": "stream",
     "text": [
      "precision score svm: 0.806\n",
      "recall score svm: 0.857\n",
      "accuracy svm: 0.763\n",
      "auc svm: 0.815\n"
     ]
    }
   ],
   "source": [
    "print(\"precision score svm:\", np.round(precision_score(y_test, y_pred_svm_linear), 3))\n",
    "print(\"recall score svm:\", np.round(recall_score(y_test, y_pred_svm_linear), 3))\n",
    "print(\"accuracy svm:\", np.round(accuracy_score(y_test, y_pred_svm_linear), 3))\n",
    "print(\"auc svm:\", np.round(roc_auc_score(y_test, pred_svm_linear[:,1]), 3))"
   ]
  },
  {
   "cell_type": "markdown",
   "id": "1f1797b0",
   "metadata": {},
   "source": [
    "#### Dla zbioru treningowego"
   ]
  },
  {
   "cell_type": "code",
   "execution_count": 37,
   "id": "5c7100a3",
   "metadata": {},
   "outputs": [
    {
     "name": "stdout",
     "output_type": "stream",
     "text": [
      "precision score svm: 0.837\n",
      "recall score svm: 0.865\n",
      "accuracy svm: 0.784\n",
      "auc svm: 0.814\n"
     ]
    }
   ],
   "source": [
    "print(\"precision score svm:\", np.round(precision_score(y_train, y_pred_svm_linear_train), 3))\n",
    "print(\"recall score svm:\", np.round(recall_score(y_train, y_pred_svm_linear_train), 3))\n",
    "print(\"accuracy svm:\", np.round(accuracy_score(y_train, y_pred_svm_linear_train), 3))\n",
    "print(\"auc svm:\", np.round(roc_auc_score(y_train, pred_svm_linear_train[:,1]), 3))"
   ]
  },
  {
   "cell_type": "code",
   "execution_count": 38,
   "id": "ac8e089f",
   "metadata": {},
   "outputs": [
    {
     "data": {
      "image/png": "[encoded data removed]",
      "text/plain": [
       "<Figure size 432x288 with 1 Axes>"
      ]
     },
     "metadata": {
      "needs_background": "light"
     },
     "output_type": "display_data"
    }
   ],
   "source": [
    "fpr, tpr, thresholds = roc_curve(y_train, pred_svm_linear_train[:,1])\n",
    "plt.plot(fpr,tpr,label=\"SVM_train, AUC=\"+str(round(roc_auc_score(y_train, pred_svm_linear_train[:,1]), 3)))\n",
    "\n",
    "fpr, tpr, thresholds = roc_curve(y_test, pred_svm_linear[:,1])\n",
    "plt.plot(fpr,tpr,label=\"SVM_test, AUC=\"+str(round(roc_auc_score(y_test, pred_svm_linear[:,1]), 3)))\n",
    "plt.legend()\n",
    "plt.savefig(\"pdu2_4.pdf\", format = 'pdf')"
   ]
  }
 ],
 "metadata": {
  "kernelspec": {
   "display_name": "Python 3 (ipykernel)",
   "language": "python",
   "name": "python3"
  },
  "language_info": {
   "codemirror_mode": {
    "name": "ipython",
    "version": 3
   },
   "file_extension": ".py",
   "mimetype": "text/x-python",
   "name": "python",
   "nbconvert_exporter": "python",
   "pygments_lexer": "ipython3",
   "version": "3.9.12"
  }
 },
 "nbformat": 4,
 "nbformat_minor": 5
}
